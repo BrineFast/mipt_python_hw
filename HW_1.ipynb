{
  "nbformat": 4,
  "nbformat_minor": 0,
  "metadata": {
    "colab": {
      "provenance": [],
      "collapsed_sections": []
    },
    "kernelspec": {
      "name": "python3",
      "display_name": "Python 3"
    },
    "language_info": {
      "name": "python"
    }
  },
  "cells": [
    {
      "cell_type": "code",
      "execution_count": 1,
      "metadata": {
        "colab": {
          "base_uri": "https://localhost:8080/"
        },
        "id": "8oAIzLzJNytf",
        "outputId": "eadc9811-f477-4e99-c979-d1441c6a66c0"
      },
      "outputs": [
        {
          "output_type": "stream",
          "name": "stdout",
          "text": [
            "\u001b[K     |████████████████████████████████| 1.9 MB 26.0 MB/s \n",
            "\u001b[K     |████████████████████████████████| 62 kB 1.4 MB/s \n",
            "\u001b[?25h"
          ]
        }
      ],
      "source": [
        "!pip install -q -U kaggle_environments"
      ]
    },
    {
      "cell_type": "code",
      "source": [
        "import numpy as np\n",
        "import pandas as pd\n",
        "import random\n",
        "import itertools\n",
        "\n",
        "import matplotlib.pyplot as plt\n",
        "import seaborn as sns\n",
        "\n",
        "from kaggle_environments import make, evaluate, utils, agent\n",
        "from kaggle_environments.helpers import Observation, Configuration\n",
        "\n",
        "from typing import Dict, List, Tuple"
      ],
      "metadata": {
        "id": "BmDCVGZuN9Kn"
      },
      "execution_count": 36,
      "outputs": []
    },
    {
      "cell_type": "markdown",
      "source": [
        "###Вспомогательная функция для выполнения хода в общем случае\n",
        "\n"
      ],
      "metadata": {
        "id": "OCOVAhBQbp3p"
      }
    },
    {
      "cell_type": "code",
      "source": [
        "def default_move(conf: Configuration) -> int:\n",
        "  return random.randrange(0, conf.signs)"
      ],
      "metadata": {
        "id": "0mrP54nqYbQB"
      },
      "execution_count": 47,
      "outputs": []
    },
    {
      "cell_type": "markdown",
      "source": [
        "###Описание всех агентов"
      ],
      "metadata": {
        "id": "CyqZRkbrbucm"
      }
    },
    {
      "cell_type": "code",
      "source": [
        "#Копирует предыдущий ход оппонента\n",
        "def copy_agent(obs: Observation, conf: Configuration) -> int:\n",
        "  if obs.step > 0:\n",
        "    return obs.lastOpponentAction\n",
        "  else:\n",
        "    return default_move(conf)\n",
        "\n",
        "#Выбирает ход сильнее, чем предыдущий оппонента\n",
        "def inc_agent(obs: Observation, conf: Configuration) -> int:\n",
        "  if obs.step > 0:\n",
        "    return obs.lastOpponentAction + 1 if obs.lastOpponentAction < 2 else 0\n",
        "  else:\n",
        "    return default_move(conf)\n",
        "\n",
        "#Выбирает ход слабее, чем предыдущий оппонента\n",
        "def dec_agent(obs: Observation, conf: Configuration) -> int:\n",
        "  if obs.step > 0:\n",
        "    return obs.lastOpponentAction - 1 if obs.lastOpponentAction > 0 else 2\n",
        "  else:\n",
        "    return default_move(conf)\n",
        "\n",
        "#Если оппонент в предыдущий ход выбрал камень - выбирает камень,\n",
        "#иначе бумагу или ножницы\n",
        "def if_rock_agent(obs: Observation, conf: Configuration) -> int:\n",
        "  if obs.step > 0:\n",
        "    return (0 if obs.lastOpponentAction == 0\n",
        "            else random.choice([1, 2]))\n",
        "  else:\n",
        "    return default_move(conf)\n",
        "\n",
        "#Если оппонент в предыдущий ход выбрал бумагу - выбирает бумагу,\n",
        "#иначе камень или ножницы\n",
        "def if_paper_agent(obs: Observation, conf: Configuration) -> int:\n",
        "  if obs.step > 0:\n",
        "    return (1 if obs.lastOpponentAction == 1\n",
        "            else random.choice([0, 2]))\n",
        "  else:\n",
        "    return default_move(conf)\n",
        "\n",
        "#Если оппонент в предыдущий ход выбрал ножницы - выбирает ножницы,\n",
        "#иначе камень или бумагу\n",
        "def if_scissors_agent(obs: Observation, conf: Configuration) -> int:\n",
        "  if obs.step > 0:\n",
        "    return (2 if obs.lastOpponentAction == 2\n",
        "            else random.choice([0, 1]))\n",
        "  else:\n",
        "    return default_move(conf)\n",
        "\n",
        "#Делает случайный ход\n",
        "def random_agent(obs: Observation, conf: Configuration) -> int:\n",
        "  return random.randrange(random.randrange(0,2), conf.signs)\n",
        "\n",
        "#Выбирает камень\n",
        "def rock_agent(obs: Observation, conf: Configuration) -> int:\n",
        "  return 0\n",
        "\n",
        "#Выбирает не камень\n",
        "def not_rock_agent(obs: Observation, conf: Configuration) -> int:\n",
        "  return random.randrange(1, conf.signs)\n",
        "\n",
        "#Выбирает бумагу\n",
        "def paper_agent(obs: Observation, conf: Configuration) -> int:\n",
        "  return 1\n",
        "\n",
        "#Выбирает не бумагу\n",
        "def not_paper_agent(obs: Observation, conf: Configuration) -> int:\n",
        "  return random.randrange(0, conf.signs, 2)\n",
        "\n",
        "#Выбирает ножницы\n",
        "def scissors_agent(obs: Observation, conf: Configuration) -> int:\n",
        "  return 2\n",
        "\n",
        "#Выбирает не ножницы\n",
        "def not_scissors_agent(obs: Observation, conf: Configuration) -> int:\n",
        "  return random.choice([0, 1])"
      ],
      "metadata": {
        "id": "S-THFC__OBqF"
      },
      "execution_count": 48,
      "outputs": []
    },
    {
      "cell_type": "markdown",
      "source": [
        "###Наполнение словаря агентов"
      ],
      "metadata": {
        "id": "FLYe4t8OfMSk"
      }
    },
    {
      "cell_type": "code",
      "source": [
        "all_agents: Dict[str, object] = {\n",
        "    \"rock_agent\": rock_agent,\n",
        "    \"not_rock_agent\": not_rock_agent,\n",
        "    \"paper_agent\": paper_agent,\n",
        "    \"not_paper_agent\": not_paper_agent,\n",
        "    \"scissors_agent\": scissors_agent,\n",
        "    \"not_scissors_agent\": not_scissors_agent,\n",
        "    \"copy_agent\": copy_agent,\n",
        "    \"random_agent\": random_agent,\n",
        "    \"inc_agent\": inc_agent,\n",
        "    \"dec_agent\": dec_agent,\n",
        "    \"if_rock_agent\": if_rock_agent,\n",
        "    \"if_paper_agent\": if_paper_agent,\n",
        "    \"if_scissors_agent\": if_scissors_agent\n",
        "}"
      ],
      "metadata": {
        "id": "kB7tdLK9O4hk"
      },
      "execution_count": 32,
      "outputs": []
    },
    {
      "cell_type": "markdown",
      "source": [
        "###Турнир каждый с каждым"
      ],
      "metadata": {
        "id": "yZWAnsTMgL8B"
      }
    },
    {
      "cell_type": "code",
      "source":[
        "scores: Dict[str, int] = {name: 0 for name in all_agents.keys()}\n",
        "\n",
        "#Проведение турнира, где каждый агент играет с каждым\n",
        "for round in itertools.product(all_agents.items(), all_agents.items()):\n",
        "  player_1 = round[0]\n",
        "  player_2 = round[1]\n",
        "  if player_1[0] != player_2[0]:\n",
        "    result = evaluate(\"rps\",\n",
        "                      [player_1[1], player_2[1]],\n",
        "                      configuration={\"episodeSteps\": 99})\n",
        "    scores[player_1[0]] = (scores[player_1[0]] + 1 if result[0][0] > -1\n",
        "                           else scores[player_1[0]])\n",
        "    scores[player_2[0]] = (scores[player_2[0]] + 1 if result[0][1] > -1\n",
        "                           else scores[player_2[0]])\n",
        "  print(scores)\n",
        "\n",
        "#Ранжирование агентов\n",
        "placement: List[Tuple[str, int]] = sorted(list(scores.items()), \n",
        "                                          key=lambda score: score[1],\n",
        "                                          reverse=True)\n",
        "\n",
        "print(f\"WINNER: {placement[0][0]}\")"
      ],
      "metadata": {
        "colab": {
          "base_uri": "https://localhost:8080/"
        },
        "id": "In_60WBRdoMR",
        "outputId": "bbe1df7a-d0eb-4ee2-b79a-0983d5bfea1d"
      },
      "execution_count": 49,
      "outputs": [
        {
          "output_type": "stream",
          "name": "stdout",
          "text": [
            "{'rock_agent': 0, 'not_rock_agent': 0, 'paper_agent': 0, 'not_paper_agent': 0, 'scissors_agent': 0, 'not_scissors_agent': 0, 'copy_agent': 0, 'random_agent': 0, 'contr_agent': 0}\n",
            "{'rock_agent': 1, 'not_rock_agent': 1, 'paper_agent': 0, 'not_paper_agent': 0, 'scissors_agent': 0, 'not_scissors_agent': 0, 'copy_agent': 0, 'random_agent': 0, 'contr_agent': 0}\n",
            "{'rock_agent': 1, 'not_rock_agent': 1, 'paper_agent': 1, 'not_paper_agent': 0, 'scissors_agent': 0, 'not_scissors_agent': 0, 'copy_agent': 0, 'random_agent': 0, 'contr_agent': 0}\n",
            "{'rock_agent': 2, 'not_rock_agent': 1, 'paper_agent': 1, 'not_paper_agent': 0, 'scissors_agent': 0, 'not_scissors_agent': 0, 'copy_agent': 0, 'random_agent': 0, 'contr_agent': 0}\n",
            "{'rock_agent': 3, 'not_rock_agent': 1, 'paper_agent': 1, 'not_paper_agent': 0, 'scissors_agent': 0, 'not_scissors_agent': 0, 'copy_agent': 0, 'random_agent': 0, 'contr_agent': 0}\n",
            "{'rock_agent': 3, 'not_rock_agent': 1, 'paper_agent': 1, 'not_paper_agent': 0, 'scissors_agent': 0, 'not_scissors_agent': 1, 'copy_agent': 0, 'random_agent': 0, 'contr_agent': 0}\n",
            "{'rock_agent': 4, 'not_rock_agent': 1, 'paper_agent': 1, 'not_paper_agent': 0, 'scissors_agent': 0, 'not_scissors_agent': 1, 'copy_agent': 1, 'random_agent': 0, 'contr_agent': 0}\n",
            "{'rock_agent': 5, 'not_rock_agent': 1, 'paper_agent': 1, 'not_paper_agent': 0, 'scissors_agent': 0, 'not_scissors_agent': 1, 'copy_agent': 1, 'random_agent': 1, 'contr_agent': 0}\n",
            "{'rock_agent': 5, 'not_rock_agent': 1, 'paper_agent': 1, 'not_paper_agent': 0, 'scissors_agent': 0, 'not_scissors_agent': 1, 'copy_agent': 1, 'random_agent': 1, 'contr_agent': 1}\n",
            "{'rock_agent': 6, 'not_rock_agent': 2, 'paper_agent': 1, 'not_paper_agent': 0, 'scissors_agent': 0, 'not_scissors_agent': 1, 'copy_agent': 1, 'random_agent': 1, 'contr_agent': 1}\n",
            "{'rock_agent': 6, 'not_rock_agent': 2, 'paper_agent': 1, 'not_paper_agent': 0, 'scissors_agent': 0, 'not_scissors_agent': 1, 'copy_agent': 1, 'random_agent': 1, 'contr_agent': 1}\n",
            "{'rock_agent': 6, 'not_rock_agent': 3, 'paper_agent': 1, 'not_paper_agent': 0, 'scissors_agent': 0, 'not_scissors_agent': 1, 'copy_agent': 1, 'random_agent': 1, 'contr_agent': 1}\n",
            "{'rock_agent': 6, 'not_rock_agent': 3, 'paper_agent': 1, 'not_paper_agent': 1, 'scissors_agent': 0, 'not_scissors_agent': 1, 'copy_agent': 1, 'random_agent': 1, 'contr_agent': 1}\n",
            "{'rock_agent': 6, 'not_rock_agent': 3, 'paper_agent': 1, 'not_paper_agent': 1, 'scissors_agent': 1, 'not_scissors_agent': 1, 'copy_agent': 1, 'random_agent': 1, 'contr_agent': 1}\n",
            "{'rock_agent': 6, 'not_rock_agent': 4, 'paper_agent': 1, 'not_paper_agent': 1, 'scissors_agent': 1, 'not_scissors_agent': 2, 'copy_agent': 1, 'random_agent': 1, 'contr_agent': 1}\n",
            "{'rock_agent': 6, 'not_rock_agent': 5, 'paper_agent': 1, 'not_paper_agent': 1, 'scissors_agent': 1, 'not_scissors_agent': 2, 'copy_agent': 2, 'random_agent': 1, 'contr_agent': 1}\n",
            "{'rock_agent': 6, 'not_rock_agent': 6, 'paper_agent': 1, 'not_paper_agent': 1, 'scissors_agent': 1, 'not_scissors_agent': 2, 'copy_agent': 2, 'random_agent': 2, 'contr_agent': 1}\n",
            "{'rock_agent': 6, 'not_rock_agent': 6, 'paper_agent': 1, 'not_paper_agent': 1, 'scissors_agent': 1, 'not_scissors_agent': 2, 'copy_agent': 2, 'random_agent': 2, 'contr_agent': 2}\n",
            "{'rock_agent': 6, 'not_rock_agent': 6, 'paper_agent': 2, 'not_paper_agent': 1, 'scissors_agent': 1, 'not_scissors_agent': 2, 'copy_agent': 2, 'random_agent': 2, 'contr_agent': 2}\n",
            "{'rock_agent': 6, 'not_rock_agent': 7, 'paper_agent': 2, 'not_paper_agent': 1, 'scissors_agent': 1, 'not_scissors_agent': 2, 'copy_agent': 2, 'random_agent': 2, 'contr_agent': 2}\n",
            "{'rock_agent': 6, 'not_rock_agent': 7, 'paper_agent': 2, 'not_paper_agent': 1, 'scissors_agent': 1, 'not_scissors_agent': 2, 'copy_agent': 2, 'random_agent': 2, 'contr_agent': 2}\n",
            "{'rock_agent': 6, 'not_rock_agent': 7, 'paper_agent': 3, 'not_paper_agent': 2, 'scissors_agent': 1, 'not_scissors_agent': 2, 'copy_agent': 2, 'random_agent': 2, 'contr_agent': 2}\n",
            "{'rock_agent': 6, 'not_rock_agent': 7, 'paper_agent': 3, 'not_paper_agent': 2, 'scissors_agent': 2, 'not_scissors_agent': 2, 'copy_agent': 2, 'random_agent': 2, 'contr_agent': 2}\n",
            "{'rock_agent': 6, 'not_rock_agent': 7, 'paper_agent': 4, 'not_paper_agent': 2, 'scissors_agent': 2, 'not_scissors_agent': 2, 'copy_agent': 2, 'random_agent': 2, 'contr_agent': 2}\n",
            "{'rock_agent': 6, 'not_rock_agent': 7, 'paper_agent': 5, 'not_paper_agent': 2, 'scissors_agent': 2, 'not_scissors_agent': 2, 'copy_agent': 3, 'random_agent': 2, 'contr_agent': 2}\n",
            "{'rock_agent': 6, 'not_rock_agent': 7, 'paper_agent': 5, 'not_paper_agent': 2, 'scissors_agent': 2, 'not_scissors_agent': 2, 'copy_agent': 3, 'random_agent': 3, 'contr_agent': 2}\n",
            "{'rock_agent': 6, 'not_rock_agent': 7, 'paper_agent': 5, 'not_paper_agent': 2, 'scissors_agent': 2, 'not_scissors_agent': 2, 'copy_agent': 3, 'random_agent': 3, 'contr_agent': 3}\n",
            "{'rock_agent': 7, 'not_rock_agent': 7, 'paper_agent': 5, 'not_paper_agent': 2, 'scissors_agent': 2, 'not_scissors_agent': 2, 'copy_agent': 3, 'random_agent': 3, 'contr_agent': 3}\n",
            "{'rock_agent': 7, 'not_rock_agent': 8, 'paper_agent': 5, 'not_paper_agent': 3, 'scissors_agent': 2, 'not_scissors_agent': 2, 'copy_agent': 3, 'random_agent': 3, 'contr_agent': 3}\n",
            "{'rock_agent': 7, 'not_rock_agent': 8, 'paper_agent': 6, 'not_paper_agent': 4, 'scissors_agent': 2, 'not_scissors_agent': 2, 'copy_agent': 3, 'random_agent': 3, 'contr_agent': 3}\n",
            "{'rock_agent': 7, 'not_rock_agent': 8, 'paper_agent': 6, 'not_paper_agent': 4, 'scissors_agent': 2, 'not_scissors_agent': 2, 'copy_agent': 3, 'random_agent': 3, 'contr_agent': 3}\n",
            "{'rock_agent': 7, 'not_rock_agent': 8, 'paper_agent': 6, 'not_paper_agent': 5, 'scissors_agent': 2, 'not_scissors_agent': 2, 'copy_agent': 3, 'random_agent': 3, 'contr_agent': 3}\n",
            "{'rock_agent': 7, 'not_rock_agent': 8, 'paper_agent': 6, 'not_paper_agent': 6, 'scissors_agent': 2, 'not_scissors_agent': 3, 'copy_agent': 3, 'random_agent': 3, 'contr_agent': 3}\n",
            "{'rock_agent': 7, 'not_rock_agent': 8, 'paper_agent': 6, 'not_paper_agent': 7, 'scissors_agent': 2, 'not_scissors_agent': 3, 'copy_agent': 4, 'random_agent': 3, 'contr_agent': 3}\n",
            "{'rock_agent': 7, 'not_rock_agent': 8, 'paper_agent': 6, 'not_paper_agent': 8, 'scissors_agent': 2, 'not_scissors_agent': 3, 'copy_agent': 4, 'random_agent': 4, 'contr_agent': 3}\n",
            "{'rock_agent': 7, 'not_rock_agent': 8, 'paper_agent': 6, 'not_paper_agent': 9, 'scissors_agent': 2, 'not_scissors_agent': 3, 'copy_agent': 4, 'random_agent': 4, 'contr_agent': 4}\n",
            "{'rock_agent': 8, 'not_rock_agent': 8, 'paper_agent': 6, 'not_paper_agent': 9, 'scissors_agent': 2, 'not_scissors_agent': 3, 'copy_agent': 4, 'random_agent': 4, 'contr_agent': 4}\n",
            "{'rock_agent': 8, 'not_rock_agent': 8, 'paper_agent': 6, 'not_paper_agent': 9, 'scissors_agent': 3, 'not_scissors_agent': 3, 'copy_agent': 4, 'random_agent': 4, 'contr_agent': 4}\n",
            "{'rock_agent': 8, 'not_rock_agent': 8, 'paper_agent': 6, 'not_paper_agent': 9, 'scissors_agent': 4, 'not_scissors_agent': 3, 'copy_agent': 4, 'random_agent': 4, 'contr_agent': 4}\n",
            "{'rock_agent': 8, 'not_rock_agent': 8, 'paper_agent': 6, 'not_paper_agent': 10, 'scissors_agent': 4, 'not_scissors_agent': 3, 'copy_agent': 4, 'random_agent': 4, 'contr_agent': 4}\n",
            "{'rock_agent': 8, 'not_rock_agent': 8, 'paper_agent': 6, 'not_paper_agent': 10, 'scissors_agent': 4, 'not_scissors_agent': 3, 'copy_agent': 4, 'random_agent': 4, 'contr_agent': 4}\n",
            "{'rock_agent': 8, 'not_rock_agent': 8, 'paper_agent': 6, 'not_paper_agent': 10, 'scissors_agent': 5, 'not_scissors_agent': 4, 'copy_agent': 4, 'random_agent': 4, 'contr_agent': 4}\n",
            "{'rock_agent': 8, 'not_rock_agent': 8, 'paper_agent': 6, 'not_paper_agent': 10, 'scissors_agent': 6, 'not_scissors_agent': 4, 'copy_agent': 5, 'random_agent': 4, 'contr_agent': 4}\n",
            "{'rock_agent': 8, 'not_rock_agent': 8, 'paper_agent': 6, 'not_paper_agent': 10, 'scissors_agent': 7, 'not_scissors_agent': 4, 'copy_agent': 5, 'random_agent': 4, 'contr_agent': 4}\n",
            "{'rock_agent': 8, 'not_rock_agent': 8, 'paper_agent': 6, 'not_paper_agent': 10, 'scissors_agent': 7, 'not_scissors_agent': 4, 'copy_agent': 5, 'random_agent': 4, 'contr_agent': 5}\n",
            "{'rock_agent': 8, 'not_rock_agent': 8, 'paper_agent': 6, 'not_paper_agent': 10, 'scissors_agent': 7, 'not_scissors_agent': 5, 'copy_agent': 5, 'random_agent': 4, 'contr_agent': 5}\n",
            "{'rock_agent': 8, 'not_rock_agent': 9, 'paper_agent': 6, 'not_paper_agent': 10, 'scissors_agent': 7, 'not_scissors_agent': 5, 'copy_agent': 5, 'random_agent': 4, 'contr_agent': 5}\n",
            "{'rock_agent': 8, 'not_rock_agent': 9, 'paper_agent': 7, 'not_paper_agent': 10, 'scissors_agent': 7, 'not_scissors_agent': 5, 'copy_agent': 5, 'random_agent': 4, 'contr_agent': 5}\n",
            "{'rock_agent': 8, 'not_rock_agent': 9, 'paper_agent': 7, 'not_paper_agent': 10, 'scissors_agent': 7, 'not_scissors_agent': 6, 'copy_agent': 5, 'random_agent': 4, 'contr_agent': 5}\n",
            "{'rock_agent': 8, 'not_rock_agent': 9, 'paper_agent': 7, 'not_paper_agent': 10, 'scissors_agent': 8, 'not_scissors_agent': 7, 'copy_agent': 5, 'random_agent': 4, 'contr_agent': 5}\n",
            "{'rock_agent': 8, 'not_rock_agent': 9, 'paper_agent': 7, 'not_paper_agent': 10, 'scissors_agent': 8, 'not_scissors_agent': 7, 'copy_agent': 5, 'random_agent': 4, 'contr_agent': 5}\n",
            "{'rock_agent': 8, 'not_rock_agent': 9, 'paper_agent': 7, 'not_paper_agent': 10, 'scissors_agent': 8, 'not_scissors_agent': 8, 'copy_agent': 6, 'random_agent': 4, 'contr_agent': 5}\n",
            "{'rock_agent': 8, 'not_rock_agent': 9, 'paper_agent': 7, 'not_paper_agent': 10, 'scissors_agent': 8, 'not_scissors_agent': 9, 'copy_agent': 6, 'random_agent': 5, 'contr_agent': 5}\n",
            "{'rock_agent': 8, 'not_rock_agent': 9, 'paper_agent': 7, 'not_paper_agent': 10, 'scissors_agent': 8, 'not_scissors_agent': 9, 'copy_agent': 6, 'random_agent': 5, 'contr_agent': 6}\n",
            "{'rock_agent': 9, 'not_rock_agent': 9, 'paper_agent': 7, 'not_paper_agent': 10, 'scissors_agent': 8, 'not_scissors_agent': 9, 'copy_agent': 7, 'random_agent': 5, 'contr_agent': 6}\n",
            "{'rock_agent': 9, 'not_rock_agent': 10, 'paper_agent': 7, 'not_paper_agent': 10, 'scissors_agent': 8, 'not_scissors_agent': 9, 'copy_agent': 8, 'random_agent': 5, 'contr_agent': 6}\n",
            "{'rock_agent': 9, 'not_rock_agent': 10, 'paper_agent': 8, 'not_paper_agent': 10, 'scissors_agent': 8, 'not_scissors_agent': 9, 'copy_agent': 9, 'random_agent': 5, 'contr_agent': 6}\n",
            "{'rock_agent': 9, 'not_rock_agent': 10, 'paper_agent': 8, 'not_paper_agent': 11, 'scissors_agent': 8, 'not_scissors_agent': 9, 'copy_agent': 10, 'random_agent': 5, 'contr_agent': 6}\n",
            "{'rock_agent': 9, 'not_rock_agent': 10, 'paper_agent': 8, 'not_paper_agent': 11, 'scissors_agent': 9, 'not_scissors_agent': 9, 'copy_agent': 11, 'random_agent': 5, 'contr_agent': 6}\n",
            "{'rock_agent': 9, 'not_rock_agent': 10, 'paper_agent': 8, 'not_paper_agent': 11, 'scissors_agent': 9, 'not_scissors_agent': 10, 'copy_agent': 12, 'random_agent': 5, 'contr_agent': 6}\n",
            "{'rock_agent': 9, 'not_rock_agent': 10, 'paper_agent': 8, 'not_paper_agent': 11, 'scissors_agent': 9, 'not_scissors_agent': 10, 'copy_agent': 12, 'random_agent': 5, 'contr_agent': 6}\n",
            "{'rock_agent': 9, 'not_rock_agent': 10, 'paper_agent': 8, 'not_paper_agent': 11, 'scissors_agent': 9, 'not_scissors_agent': 10, 'copy_agent': 13, 'random_agent': 6, 'contr_agent': 6}\n",
            "{'rock_agent': 9, 'not_rock_agent': 10, 'paper_agent': 8, 'not_paper_agent': 11, 'scissors_agent': 9, 'not_scissors_agent': 10, 'copy_agent': 13, 'random_agent': 6, 'contr_agent': 7}\n",
            "{'rock_agent': 10, 'not_rock_agent': 10, 'paper_agent': 8, 'not_paper_agent': 11, 'scissors_agent': 9, 'not_scissors_agent': 10, 'copy_agent': 13, 'random_agent': 7, 'contr_agent': 7}\n",
            "{'rock_agent': 10, 'not_rock_agent': 11, 'paper_agent': 8, 'not_paper_agent': 11, 'scissors_agent': 9, 'not_scissors_agent': 10, 'copy_agent': 13, 'random_agent': 8, 'contr_agent': 7}\n",
            "{'rock_agent': 10, 'not_rock_agent': 11, 'paper_agent': 8, 'not_paper_agent': 11, 'scissors_agent': 9, 'not_scissors_agent': 10, 'copy_agent': 13, 'random_agent': 9, 'contr_agent': 7}\n",
            "{'rock_agent': 10, 'not_rock_agent': 11, 'paper_agent': 8, 'not_paper_agent': 12, 'scissors_agent': 9, 'not_scissors_agent': 10, 'copy_agent': 13, 'random_agent': 10, 'contr_agent': 7}\n",
            "{'rock_agent': 10, 'not_rock_agent': 11, 'paper_agent': 8, 'not_paper_agent': 12, 'scissors_agent': 10, 'not_scissors_agent': 10, 'copy_agent': 13, 'random_agent': 10, 'contr_agent': 7}\n",
            "{'rock_agent': 10, 'not_rock_agent': 11, 'paper_agent': 8, 'not_paper_agent': 12, 'scissors_agent': 10, 'not_scissors_agent': 10, 'copy_agent': 13, 'random_agent': 11, 'contr_agent': 7}\n",
            "{'rock_agent': 10, 'not_rock_agent': 11, 'paper_agent': 8, 'not_paper_agent': 12, 'scissors_agent': 10, 'not_scissors_agent': 10, 'copy_agent': 14, 'random_agent': 12, 'contr_agent': 7}\n",
            "{'rock_agent': 10, 'not_rock_agent': 11, 'paper_agent': 8, 'not_paper_agent': 12, 'scissors_agent': 10, 'not_scissors_agent': 10, 'copy_agent': 14, 'random_agent': 12, 'contr_agent': 7}\n",
            "{'rock_agent': 10, 'not_rock_agent': 11, 'paper_agent': 8, 'not_paper_agent': 12, 'scissors_agent': 10, 'not_scissors_agent': 10, 'copy_agent': 14, 'random_agent': 13, 'contr_agent': 8}\n",
            "{'rock_agent': 10, 'not_rock_agent': 11, 'paper_agent': 8, 'not_paper_agent': 12, 'scissors_agent': 10, 'not_scissors_agent': 10, 'copy_agent': 14, 'random_agent': 13, 'contr_agent': 9}\n",
            "{'rock_agent': 10, 'not_rock_agent': 11, 'paper_agent': 8, 'not_paper_agent': 12, 'scissors_agent': 10, 'not_scissors_agent': 10, 'copy_agent': 14, 'random_agent': 13, 'contr_agent': 10}\n",
            "{'rock_agent': 10, 'not_rock_agent': 11, 'paper_agent': 8, 'not_paper_agent': 12, 'scissors_agent': 10, 'not_scissors_agent': 10, 'copy_agent': 14, 'random_agent': 13, 'contr_agent': 11}\n",
            "{'rock_agent': 10, 'not_rock_agent': 11, 'paper_agent': 8, 'not_paper_agent': 13, 'scissors_agent': 10, 'not_scissors_agent': 10, 'copy_agent': 14, 'random_agent': 13, 'contr_agent': 12}\n",
            "{'rock_agent': 10, 'not_rock_agent': 11, 'paper_agent': 8, 'not_paper_agent': 13, 'scissors_agent': 10, 'not_scissors_agent': 10, 'copy_agent': 14, 'random_agent': 13, 'contr_agent': 13}\n",
            "{'rock_agent': 10, 'not_rock_agent': 11, 'paper_agent': 8, 'not_paper_agent': 13, 'scissors_agent': 10, 'not_scissors_agent': 11, 'copy_agent': 14, 'random_agent': 13, 'contr_agent': 14}\n",
            "{'rock_agent': 10, 'not_rock_agent': 11, 'paper_agent': 8, 'not_paper_agent': 13, 'scissors_agent': 10, 'not_scissors_agent': 11, 'copy_agent': 14, 'random_agent': 13, 'contr_agent': 15}\n",
            "{'rock_agent': 10, 'not_rock_agent': 11, 'paper_agent': 8, 'not_paper_agent': 13, 'scissors_agent': 10, 'not_scissors_agent': 11, 'copy_agent': 14, 'random_agent': 14, 'contr_agent': 16}\n",
            "{'rock_agent': 10, 'not_rock_agent': 11, 'paper_agent': 8, 'not_paper_agent': 13, 'scissors_agent': 10, 'not_scissors_agent': 11, 'copy_agent': 14, 'random_agent': 14, 'contr_agent': 16}\n",
            "WINNER: contr_agent\n"
          ]
        }
      ]
    }
  ]
}