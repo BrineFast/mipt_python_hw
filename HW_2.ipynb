{
 "cells": [
  {
   "cell_type": "code",
   "execution_count": 34,
   "id": "1a7a9711",
   "metadata": {
    "collapsed": false,
    "jupyter": {
     "outputs_hidden": false
    },
    "pycharm": {
     "name": "#%%\n"
    }
   },
   "outputs": [],
   "source": [
    "import warnings\n",
    "import pandas as pd\n",
    "import numpy as np\n",
    "import matplotlib.pyplot as plt\n",
    "\n",
    "from matplotlib.ticker import FuncFormatter\n",
    "from typing import List, Set"
   ]
  },
  {
   "cell_type": "code",
   "execution_count": 35,
   "id": "af24b781",
   "metadata": {
    "collapsed": false,
    "jupyter": {
     "outputs_hidden": false
    },
    "pycharm": {
     "name": "#%%\n"
    }
   },
   "outputs": [],
   "source": [
    "pd.set_option('display.max_rows', 20)\n",
    "warnings.filterwarnings('ignore')"
   ]
  },
  {
   "cell_type": "markdown",
   "id": "3c56e416",
   "metadata": {
    "pycharm": {
     "name": "#%% md\n"
    }
   },
   "source": [
    "### Чтение и оптимизация датасетов"
   ]
  },
  {
   "cell_type": "code",
   "execution_count": 3,
   "id": "5a16ede6",
   "metadata": {
    "collapsed": false,
    "jupyter": {
     "outputs_hidden": false
    },
    "pycharm": {
     "name": "#%%\n"
    }
   },
   "outputs": [],
   "source": [
    "questions: pd.DataFrame = pd.read_csv(\"questions.csv\")\n",
    "lectures: pd.DataFrame = pd.read_csv(\"lectures.csv\")\n",
    "train: pd.DataFrame = pd.read_csv(\"train.csv\")"
   ]
  },
  {
   "cell_type": "code",
   "execution_count": 4,
   "id": "190aeadc",
   "metadata": {
    "collapsed": false,
    "jupyter": {
     "outputs_hidden": false
    },
    "pycharm": {
     "name": "#%%\n"
    }
   },
   "outputs": [
    {
     "data": {
      "text/html": [
       "<div>\n",
       "<style scoped>\n",
       "    .dataframe tbody tr th:only-of-type {\n",
       "        vertical-align: middle;\n",
       "    }\n",
       "\n",
       "    .dataframe tbody tr th {\n",
       "        vertical-align: top;\n",
       "    }\n",
       "\n",
       "    .dataframe thead th {\n",
       "        text-align: right;\n",
       "    }\n",
       "</style>\n",
       "<table border=\"1\" class=\"dataframe\">\n",
       "  <thead>\n",
       "    <tr style=\"text-align: right;\">\n",
       "      <th></th>\n",
       "      <th>row_id</th>\n",
       "      <th>timestamp</th>\n",
       "      <th>user_id</th>\n",
       "      <th>content_id</th>\n",
       "      <th>content_type_id</th>\n",
       "      <th>task_container_id</th>\n",
       "      <th>user_answer</th>\n",
       "      <th>answered_correctly</th>\n",
       "      <th>prior_question_elapsed_time</th>\n",
       "      <th>prior_question_had_explanation</th>\n",
       "    </tr>\n",
       "  </thead>\n",
       "  <tbody>\n",
       "    <tr>\n",
       "      <th>0</th>\n",
       "      <td>0</td>\n",
       "      <td>0</td>\n",
       "      <td>115</td>\n",
       "      <td>5692</td>\n",
       "      <td>False</td>\n",
       "      <td>1</td>\n",
       "      <td>3</td>\n",
       "      <td>1</td>\n",
       "      <td>NaN</td>\n",
       "      <td>&lt;NA&gt;</td>\n",
       "    </tr>\n",
       "    <tr>\n",
       "      <th>1</th>\n",
       "      <td>1</td>\n",
       "      <td>56943</td>\n",
       "      <td>115</td>\n",
       "      <td>5716</td>\n",
       "      <td>False</td>\n",
       "      <td>2</td>\n",
       "      <td>2</td>\n",
       "      <td>1</td>\n",
       "      <td>37000.0</td>\n",
       "      <td>False</td>\n",
       "    </tr>\n",
       "    <tr>\n",
       "      <th>2</th>\n",
       "      <td>2</td>\n",
       "      <td>118363</td>\n",
       "      <td>115</td>\n",
       "      <td>128</td>\n",
       "      <td>False</td>\n",
       "      <td>0</td>\n",
       "      <td>0</td>\n",
       "      <td>1</td>\n",
       "      <td>55000.0</td>\n",
       "      <td>False</td>\n",
       "    </tr>\n",
       "    <tr>\n",
       "      <th>3</th>\n",
       "      <td>3</td>\n",
       "      <td>131167</td>\n",
       "      <td>115</td>\n",
       "      <td>7860</td>\n",
       "      <td>False</td>\n",
       "      <td>3</td>\n",
       "      <td>0</td>\n",
       "      <td>1</td>\n",
       "      <td>19000.0</td>\n",
       "      <td>False</td>\n",
       "    </tr>\n",
       "    <tr>\n",
       "      <th>4</th>\n",
       "      <td>4</td>\n",
       "      <td>137965</td>\n",
       "      <td>115</td>\n",
       "      <td>7922</td>\n",
       "      <td>False</td>\n",
       "      <td>4</td>\n",
       "      <td>1</td>\n",
       "      <td>1</td>\n",
       "      <td>11000.0</td>\n",
       "      <td>False</td>\n",
       "    </tr>\n",
       "    <tr>\n",
       "      <th>...</th>\n",
       "      <td>...</td>\n",
       "      <td>...</td>\n",
       "      <td>...</td>\n",
       "      <td>...</td>\n",
       "      <td>...</td>\n",
       "      <td>...</td>\n",
       "      <td>...</td>\n",
       "      <td>...</td>\n",
       "      <td>...</td>\n",
       "      <td>...</td>\n",
       "    </tr>\n",
       "    <tr>\n",
       "      <th>101230327</th>\n",
       "      <td>101230327</td>\n",
       "      <td>428564420</td>\n",
       "      <td>2147482888</td>\n",
       "      <td>3586</td>\n",
       "      <td>False</td>\n",
       "      <td>22</td>\n",
       "      <td>0</td>\n",
       "      <td>1</td>\n",
       "      <td>18000.0</td>\n",
       "      <td>True</td>\n",
       "    </tr>\n",
       "    <tr>\n",
       "      <th>101230328</th>\n",
       "      <td>101230328</td>\n",
       "      <td>428585000</td>\n",
       "      <td>2147482888</td>\n",
       "      <td>6341</td>\n",
       "      <td>False</td>\n",
       "      <td>23</td>\n",
       "      <td>3</td>\n",
       "      <td>1</td>\n",
       "      <td>14000.0</td>\n",
       "      <td>True</td>\n",
       "    </tr>\n",
       "    <tr>\n",
       "      <th>101230329</th>\n",
       "      <td>101230329</td>\n",
       "      <td>428613475</td>\n",
       "      <td>2147482888</td>\n",
       "      <td>4212</td>\n",
       "      <td>False</td>\n",
       "      <td>24</td>\n",
       "      <td>3</td>\n",
       "      <td>1</td>\n",
       "      <td>14000.0</td>\n",
       "      <td>True</td>\n",
       "    </tr>\n",
       "    <tr>\n",
       "      <th>101230330</th>\n",
       "      <td>101230330</td>\n",
       "      <td>428649406</td>\n",
       "      <td>2147482888</td>\n",
       "      <td>6343</td>\n",
       "      <td>False</td>\n",
       "      <td>25</td>\n",
       "      <td>1</td>\n",
       "      <td>0</td>\n",
       "      <td>22000.0</td>\n",
       "      <td>True</td>\n",
       "    </tr>\n",
       "    <tr>\n",
       "      <th>101230331</th>\n",
       "      <td>101230331</td>\n",
       "      <td>428692118</td>\n",
       "      <td>2147482888</td>\n",
       "      <td>7995</td>\n",
       "      <td>False</td>\n",
       "      <td>26</td>\n",
       "      <td>3</td>\n",
       "      <td>1</td>\n",
       "      <td>29000.0</td>\n",
       "      <td>True</td>\n",
       "    </tr>\n",
       "  </tbody>\n",
       "</table>\n",
       "<p>101230332 rows × 10 columns</p>\n",
       "</div>"
      ],
      "text/plain": [
       "              row_id  timestamp     user_id  content_id  content_type_id  \\\n",
       "0                  0          0         115        5692            False   \n",
       "1                  1      56943         115        5716            False   \n",
       "2                  2     118363         115         128            False   \n",
       "3                  3     131167         115        7860            False   \n",
       "4                  4     137965         115        7922            False   \n",
       "...              ...        ...         ...         ...              ...   \n",
       "101230327  101230327  428564420  2147482888        3586            False   \n",
       "101230328  101230328  428585000  2147482888        6341            False   \n",
       "101230329  101230329  428613475  2147482888        4212            False   \n",
       "101230330  101230330  428649406  2147482888        6343            False   \n",
       "101230331  101230331  428692118  2147482888        7995            False   \n",
       "\n",
       "           task_container_id  user_answer  answered_correctly  \\\n",
       "0                          1            3                   1   \n",
       "1                          2            2                   1   \n",
       "2                          0            0                   1   \n",
       "3                          3            0                   1   \n",
       "4                          4            1                   1   \n",
       "...                      ...          ...                 ...   \n",
       "101230327                 22            0                   1   \n",
       "101230328                 23            3                   1   \n",
       "101230329                 24            3                   1   \n",
       "101230330                 25            1                   0   \n",
       "101230331                 26            3                   1   \n",
       "\n",
       "           prior_question_elapsed_time  prior_question_had_explanation  \n",
       "0                                  NaN                            <NA>  \n",
       "1                              37000.0                           False  \n",
       "2                              55000.0                           False  \n",
       "3                              19000.0                           False  \n",
       "4                              11000.0                           False  \n",
       "...                                ...                             ...  \n",
       "101230327                      18000.0                            True  \n",
       "101230328                      14000.0                            True  \n",
       "101230329                      14000.0                            True  \n",
       "101230330                      22000.0                            True  \n",
       "101230331                      29000.0                            True  \n",
       "\n",
       "[101230332 rows x 10 columns]"
      ]
     },
     "execution_count": 4,
     "metadata": {},
     "output_type": "execute_result"
    }
   ],
   "source": [
    "train['prior_question_had_explanation'] = train['prior_question_had_explanation'].astype('boolean')\n",
    "train['user_id']=train['user_id'].astype('int32')\n",
    "train['content_id']=train['content_id'].astype('int16')\n",
    "train['content_type_id']=train['content_type_id'].astype('boolean')\n",
    "train['task_container_id']=train['task_container_id'].astype('int16')\n",
    "train['user_answer']=train['user_answer'].astype('int8')\n",
    "train['answered_correctly']=train['answered_correctly'].astype('int8')\n",
    "train['prior_question_elapsed_time']=train['prior_question_elapsed_time'].astype('float32')\n",
    "train['prior_question_elapsed_time']=train['prior_question_elapsed_time'].astype('float32')\n",
    "train"
   ]
  },
  {
   "cell_type": "code",
   "execution_count": 5,
   "id": "30e7681a",
   "metadata": {
    "collapsed": false,
    "jupyter": {
     "outputs_hidden": false
    },
    "pycharm": {
     "name": "#%%\n"
    }
   },
   "outputs": [
    {
     "data": {
      "text/html": [
       "<div>\n",
       "<style scoped>\n",
       "    .dataframe tbody tr th:only-of-type {\n",
       "        vertical-align: middle;\n",
       "    }\n",
       "\n",
       "    .dataframe tbody tr th {\n",
       "        vertical-align: top;\n",
       "    }\n",
       "\n",
       "    .dataframe thead th {\n",
       "        text-align: right;\n",
       "    }\n",
       "</style>\n",
       "<table border=\"1\" class=\"dataframe\">\n",
       "  <thead>\n",
       "    <tr style=\"text-align: right;\">\n",
       "      <th></th>\n",
       "      <th>question_id</th>\n",
       "      <th>bundle_id</th>\n",
       "      <th>correct_answer</th>\n",
       "      <th>part</th>\n",
       "      <th>tags</th>\n",
       "    </tr>\n",
       "  </thead>\n",
       "  <tbody>\n",
       "    <tr>\n",
       "      <th>0</th>\n",
       "      <td>0</td>\n",
       "      <td>0</td>\n",
       "      <td>0</td>\n",
       "      <td>1</td>\n",
       "      <td>51 131 162 38</td>\n",
       "    </tr>\n",
       "    <tr>\n",
       "      <th>1</th>\n",
       "      <td>1</td>\n",
       "      <td>1</td>\n",
       "      <td>1</td>\n",
       "      <td>1</td>\n",
       "      <td>131 36 81</td>\n",
       "    </tr>\n",
       "    <tr>\n",
       "      <th>2</th>\n",
       "      <td>2</td>\n",
       "      <td>2</td>\n",
       "      <td>0</td>\n",
       "      <td>1</td>\n",
       "      <td>131 101 162 92</td>\n",
       "    </tr>\n",
       "    <tr>\n",
       "      <th>3</th>\n",
       "      <td>3</td>\n",
       "      <td>3</td>\n",
       "      <td>0</td>\n",
       "      <td>1</td>\n",
       "      <td>131 149 162 29</td>\n",
       "    </tr>\n",
       "    <tr>\n",
       "      <th>4</th>\n",
       "      <td>4</td>\n",
       "      <td>4</td>\n",
       "      <td>3</td>\n",
       "      <td>1</td>\n",
       "      <td>131 5 162 38</td>\n",
       "    </tr>\n",
       "    <tr>\n",
       "      <th>...</th>\n",
       "      <td>...</td>\n",
       "      <td>...</td>\n",
       "      <td>...</td>\n",
       "      <td>...</td>\n",
       "      <td>...</td>\n",
       "    </tr>\n",
       "    <tr>\n",
       "      <th>13518</th>\n",
       "      <td>13518</td>\n",
       "      <td>13518</td>\n",
       "      <td>3</td>\n",
       "      <td>5</td>\n",
       "      <td>14</td>\n",
       "    </tr>\n",
       "    <tr>\n",
       "      <th>13519</th>\n",
       "      <td>13519</td>\n",
       "      <td>13519</td>\n",
       "      <td>3</td>\n",
       "      <td>5</td>\n",
       "      <td>8</td>\n",
       "    </tr>\n",
       "    <tr>\n",
       "      <th>13520</th>\n",
       "      <td>13520</td>\n",
       "      <td>13520</td>\n",
       "      <td>2</td>\n",
       "      <td>5</td>\n",
       "      <td>73</td>\n",
       "    </tr>\n",
       "    <tr>\n",
       "      <th>13521</th>\n",
       "      <td>13521</td>\n",
       "      <td>13521</td>\n",
       "      <td>0</td>\n",
       "      <td>5</td>\n",
       "      <td>125</td>\n",
       "    </tr>\n",
       "    <tr>\n",
       "      <th>13522</th>\n",
       "      <td>13522</td>\n",
       "      <td>13522</td>\n",
       "      <td>3</td>\n",
       "      <td>5</td>\n",
       "      <td>55</td>\n",
       "    </tr>\n",
       "  </tbody>\n",
       "</table>\n",
       "<p>13523 rows × 5 columns</p>\n",
       "</div>"
      ],
      "text/plain": [
       "       question_id  bundle_id  correct_answer  part            tags\n",
       "0                0          0               0     1   51 131 162 38\n",
       "1                1          1               1     1       131 36 81\n",
       "2                2          2               0     1  131 101 162 92\n",
       "3                3          3               0     1  131 149 162 29\n",
       "4                4          4               3     1    131 5 162 38\n",
       "...            ...        ...             ...   ...             ...\n",
       "13518        13518      13518               3     5              14\n",
       "13519        13519      13519               3     5               8\n",
       "13520        13520      13520               2     5              73\n",
       "13521        13521      13521               0     5             125\n",
       "13522        13522      13522               3     5              55\n",
       "\n",
       "[13523 rows x 5 columns]"
      ]
     },
     "execution_count": 5,
     "metadata": {},
     "output_type": "execute_result"
    }
   ],
   "source": [
    "questions['tags'] = questions['tags'].astype(str)\n",
    "questions"
   ]
  },
  {
   "cell_type": "code",
   "execution_count": 6,
   "id": "c1447af3",
   "metadata": {
    "collapsed": false,
    "jupyter": {
     "outputs_hidden": false
    },
    "pycharm": {
     "name": "#%%\n"
    }
   },
   "outputs": [
    {
     "data": {
      "text/html": [
       "<div>\n",
       "<style scoped>\n",
       "    .dataframe tbody tr th:only-of-type {\n",
       "        vertical-align: middle;\n",
       "    }\n",
       "\n",
       "    .dataframe tbody tr th {\n",
       "        vertical-align: top;\n",
       "    }\n",
       "\n",
       "    .dataframe thead th {\n",
       "        text-align: right;\n",
       "    }\n",
       "</style>\n",
       "<table border=\"1\" class=\"dataframe\">\n",
       "  <thead>\n",
       "    <tr style=\"text-align: right;\">\n",
       "      <th></th>\n",
       "      <th>lecture_id</th>\n",
       "      <th>tag</th>\n",
       "      <th>part</th>\n",
       "      <th>type_of</th>\n",
       "    </tr>\n",
       "  </thead>\n",
       "  <tbody>\n",
       "    <tr>\n",
       "      <th>0</th>\n",
       "      <td>89</td>\n",
       "      <td>159</td>\n",
       "      <td>5</td>\n",
       "      <td>concept</td>\n",
       "    </tr>\n",
       "    <tr>\n",
       "      <th>1</th>\n",
       "      <td>100</td>\n",
       "      <td>70</td>\n",
       "      <td>1</td>\n",
       "      <td>concept</td>\n",
       "    </tr>\n",
       "    <tr>\n",
       "      <th>2</th>\n",
       "      <td>185</td>\n",
       "      <td>45</td>\n",
       "      <td>6</td>\n",
       "      <td>concept</td>\n",
       "    </tr>\n",
       "    <tr>\n",
       "      <th>3</th>\n",
       "      <td>192</td>\n",
       "      <td>79</td>\n",
       "      <td>5</td>\n",
       "      <td>solving question</td>\n",
       "    </tr>\n",
       "    <tr>\n",
       "      <th>4</th>\n",
       "      <td>317</td>\n",
       "      <td>156</td>\n",
       "      <td>5</td>\n",
       "      <td>solving question</td>\n",
       "    </tr>\n",
       "    <tr>\n",
       "      <th>...</th>\n",
       "      <td>...</td>\n",
       "      <td>...</td>\n",
       "      <td>...</td>\n",
       "      <td>...</td>\n",
       "    </tr>\n",
       "    <tr>\n",
       "      <th>413</th>\n",
       "      <td>32535</td>\n",
       "      <td>8</td>\n",
       "      <td>5</td>\n",
       "      <td>solving question</td>\n",
       "    </tr>\n",
       "    <tr>\n",
       "      <th>414</th>\n",
       "      <td>32570</td>\n",
       "      <td>113</td>\n",
       "      <td>3</td>\n",
       "      <td>solving question</td>\n",
       "    </tr>\n",
       "    <tr>\n",
       "      <th>415</th>\n",
       "      <td>32604</td>\n",
       "      <td>24</td>\n",
       "      <td>6</td>\n",
       "      <td>concept</td>\n",
       "    </tr>\n",
       "    <tr>\n",
       "      <th>416</th>\n",
       "      <td>32625</td>\n",
       "      <td>142</td>\n",
       "      <td>2</td>\n",
       "      <td>concept</td>\n",
       "    </tr>\n",
       "    <tr>\n",
       "      <th>417</th>\n",
       "      <td>32736</td>\n",
       "      <td>82</td>\n",
       "      <td>3</td>\n",
       "      <td>concept</td>\n",
       "    </tr>\n",
       "  </tbody>\n",
       "</table>\n",
       "<p>418 rows × 4 columns</p>\n",
       "</div>"
      ],
      "text/plain": [
       "     lecture_id  tag  part           type_of\n",
       "0            89  159     5           concept\n",
       "1           100   70     1           concept\n",
       "2           185   45     6           concept\n",
       "3           192   79     5  solving question\n",
       "4           317  156     5  solving question\n",
       "..          ...  ...   ...               ...\n",
       "413       32535    8     5  solving question\n",
       "414       32570  113     3  solving question\n",
       "415       32604   24     6           concept\n",
       "416       32625  142     2           concept\n",
       "417       32736   82     3           concept\n",
       "\n",
       "[418 rows x 4 columns]"
      ]
     },
     "execution_count": 6,
     "metadata": {},
     "output_type": "execute_result"
    }
   ],
   "source": [
    "lectures"
   ]
  },
  {
   "cell_type": "markdown",
   "id": "c913f490",
   "metadata": {
    "pycharm": {
     "name": "#%% md\n"
    }
   },
   "source": [
    "## Расчет метрик"
   ]
  },
  {
   "cell_type": "markdown",
   "id": "c6323640",
   "metadata": {
    "pycharm": {
     "name": "#%% md\n"
    }
   },
   "source": [
    "### Анализ поведения пользователей"
   ]
  },
  {
   "cell_type": "code",
   "execution_count": 7,
   "id": "45823582",
   "metadata": {
    "collapsed": false,
    "jupyter": {
     "outputs_hidden": false
    },
    "pycharm": {
     "name": "#%%\n"
    }
   },
   "outputs": [
    {
     "name": "stdout",
     "output_type": "stream",
     "text": [
      "Unique users: 393656\n"
     ]
    }
   ],
   "source": [
    "print(f\"Unique users: {train['user_id'].nunique()}\")"
   ]
  },
  {
   "cell_type": "code",
   "execution_count": 8,
   "id": "059caa69",
   "metadata": {
    "collapsed": false,
    "jupyter": {
     "outputs_hidden": false
    },
    "pycharm": {
     "name": "#%%\n"
    }
   },
   "outputs": [
    {
     "name": "stdout",
     "output_type": "stream",
     "text": [
      "Unique content: 13782\n"
     ]
    }
   ],
   "source": [
    "print(f\"Unique content: {train['content_id'].nunique()}\") "
   ]
  },
  {
   "cell_type": "code",
   "execution_count": 9,
   "id": "3c4f90d0",
   "metadata": {
    "collapsed": false,
    "jupyter": {
     "outputs_hidden": false
    },
    "pycharm": {
     "name": "#%%\n"
    }
   },
   "outputs": [
    {
     "name": "stdout",
     "output_type": "stream",
     "text": [
      "Unique questions :13523\n"
     ]
    }
   ],
   "source": [
    "print(f\"Unique questions :{train[train.content_type_id == False]['content_id'].nunique()}\")"
   ]
  },
  {
   "cell_type": "markdown",
   "id": "1a1635db",
   "metadata": {
    "pycharm": {
     "name": "#%% md\n"
    }
   },
   "source": [
    "##### False - был задан вопрос, True - лекция просмотрена."
   ]
  },
  {
   "cell_type": "code",
   "execution_count": 10,
   "id": "ec1cfc2e",
   "metadata": {
    "collapsed": false,
    "jupyter": {
     "outputs_hidden": false
    },
    "pycharm": {
     "name": "#%%\n"
    }
   },
   "outputs": [
    {
     "data": {
      "text/plain": [
       "False    99271300\n",
       "True      1959032\n",
       "Name: content_type_id, dtype: Int64"
      ]
     },
     "execution_count": 10,
     "metadata": {},
     "output_type": "execute_result"
    }
   ],
   "source": [
    "train.content_type_id.value_counts()"
   ]
  },
  {
   "cell_type": "code",
   "execution_count": 36,
   "id": "e722a96f",
   "metadata": {
    "collapsed": false,
    "jupyter": {
     "outputs_hidden": false
    },
    "pycharm": {
     "name": "#%%\n"
    }
   },
   "outputs": [
    {
     "data": {
      "image/png": "[encoded data removed]",
      "text/plain": [
       "<Figure size 1200x600 with 1 Axes>"
      ]
     },
     "metadata": {},
     "output_type": "display_data"
    }
   ],
   "source": [
    "cids: List[int] = train['content_id'].value_counts()[:30]\n",
    "\n",
    "fig = plt.figure(figsize=(12,6))\n",
    "ax = cids.plot.bar()\n",
    "plt.title(\"Top-30 content\")\n",
    "plt.xticks(rotation=90)\n",
    "ax.get_yaxis().set_major_formatter(FuncFormatter(lambda x, p: format(int(x), ',')))"
   ]
  },
  {
   "cell_type": "code",
   "execution_count": 12,
   "id": "904d2a78",
   "metadata": {
    "collapsed": false,
    "jupyter": {
     "outputs_hidden": false
    },
    "pycharm": {
     "name": "#%%\n"
    }
   },
   "outputs": [
    {
     "name": "stdout",
     "output_type": "stream",
     "text": [
      "Unique tasks: 10000\n"
     ]
    }
   ],
   "source": [
    "print(f\"Unique tasks: {train['task_container_id'].nunique()}\")"
   ]
  },
  {
   "cell_type": "markdown",
   "id": "3bef18ef",
   "metadata": {
    "pycharm": {
     "name": "#%% md\n"
    }
   },
   "source": [
    "#### Распределение ответов пользователей"
   ]
  },
  {
   "cell_type": "code",
   "execution_count": 13,
   "id": "1266943e",
   "metadata": {
    "collapsed": false,
    "jupyter": {
     "outputs_hidden": false
    },
    "pycharm": {
     "name": "#%%\n"
    }
   },
   "outputs": [
    {
     "data": {
      "text/plain": [
       " 0    28186489\n",
       " 1    26990007\n",
       " 3    26084784\n",
       " 2    18010020\n",
       "-1     1959032\n",
       "Name: user_answer, dtype: int64"
      ]
     },
     "execution_count": 13,
     "metadata": {},
     "output_type": "execute_result"
    }
   ],
   "source": [
    "train[\"user_answer\"].value_counts()"
   ]
  },
  {
   "cell_type": "markdown",
   "id": "1974fb3b",
   "metadata": {
    "pycharm": {
     "name": "#%% md\n"
    }
   },
   "source": [
    "#### Затраченное на ответ время"
   ]
  },
  {
   "cell_type": "code",
   "execution_count": 14,
   "id": "33f912b9",
   "metadata": {
    "collapsed": false,
    "jupyter": {
     "outputs_hidden": false
    },
    "pycharm": {
     "name": "#%%\n"
    }
   },
   "outputs": [
    {
     "data": {
      "image/png": "[encoded data removed]",
      "text/plain": [
       "<Figure size 1200x600 with 1 Axes>"
      ]
     },
     "metadata": {},
     "output_type": "display_data"
    }
   ],
   "source": [
    "ts: List[float] = train['timestamp']/(31536000000/12)\n",
    "fig = plt.figure(figsize=(12,6))\n",
    "ts.plot.hist(bins=100)\n",
    "plt.title(\"Distribution of the user actions by time\")\n",
    "plt.xticks(rotation=0)\n",
    "plt.show()"
   ]
  },
  {
   "cell_type": "code",
   "execution_count": 15,
   "id": "48c8abd6",
   "metadata": {
    "collapsed": false,
    "jupyter": {
     "outputs_hidden": false
    },
    "pycharm": {
     "name": "#%%\n"
    }
   },
   "outputs": [
    {
     "data": {
      "image/png": "[encoded data removed]",
      "text/plain": [
       "<Figure size 1200x400 with 1 Axes>"
      ]
     },
     "metadata": {},
     "output_type": "display_data"
    }
   ],
   "source": [
    "correct: pd.DataFrame = train[train.answered_correctly != -1].answered_correctly.value_counts(ascending=True)\n",
    "fig = plt.figure(figsize=(12,4))\n",
    "correct.plot.barh()\n",
    "for i, v in zip(correct.index, correct.values):\n",
    "    plt.text(v, i, '{:,}'.format(v), color='white', fontweight='bold', fontsize=14, ha='right', va='center')\n",
    "plt.title(\"Distribution of the answers\")\n",
    "plt.xticks(rotation=0)\n",
    "plt.show()"
   ]
  },
  {
   "cell_type": "code",
   "execution_count": 16,
   "id": "b5389814",
   "metadata": {
    "collapsed": false,
    "jupyter": {
     "outputs_hidden": false
    },
    "pycharm": {
     "name": "#%%\n"
    }
   },
   "outputs": [],
   "source": [
    "def fix_column(field: str) -> pd.DataFrame:\n",
    "    correct: pd.DataFrame = train[train.answered_correctly != -1].groupby([field, 'answered_correctly'], as_index=False).size()\n",
    "    correct = correct.pivot(index=field, columns='answered_correctly', values='size')\n",
    "    correct['Percent_correct'] = round(correct.iloc[:,1]/(correct.iloc[:,0] + correct.iloc[:,1]),2)\n",
    "    correct = correct.sort_values(by = \"Percent_correct\", ascending = False)\n",
    "    correct = correct.iloc[:,2]\n",
    "    return correct"
   ]
  },
  {
   "cell_type": "markdown",
   "id": "e5fca584",
   "metadata": {
    "pycharm": {
     "name": "#%% md\n"
    }
   },
   "source": [
    "#### Зависимость между количеством корректных ответов и затраченным временем"
   ]
  },
  {
   "cell_type": "code",
   "execution_count": 17,
   "id": "84721696",
   "metadata": {
    "collapsed": false,
    "jupyter": {
     "outputs_hidden": false
    },
    "pycharm": {
     "name": "#%%\n"
    }
   },
   "outputs": [
    {
     "data": {
      "image/png": "[encoded data removed]",
      "text/plain": [
       "<Figure size 1200x600 with 1 Axes>"
      ]
     },
     "metadata": {},
     "output_type": "display_data"
    }
   ],
   "source": [
    "bin_labels_10: List[str] = [f\"Group_{i}\" for i in range(1, 11)]\n",
    "train['ts_bin'] = pd.qcut(train['timestamp'], q=10, labels=bin_labels_10)\n",
    "\n",
    "\n",
    "bins_correct: pd.DataFrame = fix_column(\"ts_bin\")\n",
    "bins_correct = bins_correct.sort_index()\n",
    "\n",
    "fig = plt.figure(figsize=(12,6))\n",
    "plt.bar(bins_correct.index, bins_correct.values)\n",
    "for i, v in zip(bins_correct.index, bins_correct.values):\n",
    "    plt.text(i, v, v, color='white', fontweight='bold', fontsize=14, va='top', ha='center')\n",
    "plt.title(\"Correct answers percentage\")\n",
    "plt.xticks(rotation=0)\n",
    "plt.show()"
   ]
  },
  {
   "cell_type": "markdown",
   "id": "0da5a6b0",
   "metadata": {
    "pycharm": {
     "name": "#%% md\n"
    }
   },
   "source": [
    "#### Распределение правильных ответов по заданиям"
   ]
  },
  {
   "cell_type": "code",
   "execution_count": 18,
   "id": "45c0dd9e",
   "metadata": {
    "collapsed": false,
    "jupyter": {
     "outputs_hidden": false
    },
    "pycharm": {
     "name": "#%%\n"
    }
   },
   "outputs": [
    {
     "data": {
      "image/png": "[encoded data removed]",
      "text/plain": [
       "<Figure size 1200x600 with 1 Axes>"
      ]
     },
     "metadata": {},
     "output_type": "display_data"
    }
   ],
   "source": [
    "task_id_correct: pd.DataFrame = fix_column(\"task_container_id\")\n",
    "\n",
    "fig = plt.figure(figsize=(12,6))\n",
    "task_id_correct.plot.hist(bins=40)\n",
    "plt.title(\"Distribution of the correct questions by tasks\")\n",
    "plt.xticks(rotation=0)\n",
    "plt.show()"
   ]
  },
  {
   "cell_type": "markdown",
   "id": "e16db126",
   "metadata": {
    "pycharm": {
     "name": "#%% md\n"
    }
   },
   "source": [
    "#### Анализ лучшего пользователя"
   ]
  },
  {
   "cell_type": "code",
   "execution_count": 20,
   "id": "d3656fa3",
   "metadata": {
    "collapsed": false,
    "jupyter": {
     "outputs_hidden": false
    },
    "pycharm": {
     "name": "#%%\n"
    }
   },
   "outputs": [
    {
     "name": "stdout",
     "output_type": "stream",
     "text": [
      "Top user by answers: 801103753\n"
     ]
    }
   ],
   "source": [
    "user_percent: pd.DataFrame = train[train.answered_correctly != -1].groupby('user_id')['answered_correctly'].agg(Mean='mean', Answers='count')\n",
    "print(f\"Top user by answers: {user_percent[user_percent['Answers'] == user_percent.Answers.max()].index[0]}\")"
   ]
  },
  {
   "cell_type": "code",
   "execution_count": 21,
   "id": "fb7cf0b8",
   "metadata": {
    "collapsed": false,
    "jupyter": {
     "outputs_hidden": false
    },
    "pycharm": {
     "name": "#%%\n"
    }
   },
   "outputs": [
    {
     "data": {
      "image/png": "[encoded data removed]",
      "text/plain": [
       "<Figure size 1200x600 with 1 Axes>"
      ]
     },
     "metadata": {},
     "output_type": "display_data"
    }
   ],
   "source": [
    "user_percent: pd.DataFrame = user_percent.query('Answers <= 1000').sample(n=200, random_state=1)\n",
    "x: List[float] = user_percent.Answers\n",
    "y: List[float] = user_percent.Mean\n",
    "z: np.array = np.polyfit(x, y, 1)\n",
    "p: np.array = np.poly1d(z)\n",
    "\n",
    "fig = plt.figure(figsize=(12,6))\n",
    "plt.scatter(x, y, marker='o')\n",
    "plt.title(\"Percentage of correct user responses by total number of questions\")\n",
    "plt.xticks(rotation=0)\n",
    "plt.xlabel(\"Questions amount\")\n",
    "plt.ylabel(\"Correct answers\")\n",
    "plt.plot(x,p(x),\"r--\")\n",
    "\n",
    "plt.show()"
   ]
  },
  {
   "cell_type": "markdown",
   "id": "67f06162",
   "metadata": {
    "pycharm": {
     "name": "#%% md\n"
    }
   },
   "source": [
    "### Анализ вопросов"
   ]
  },
  {
   "cell_type": "code",
   "execution_count": 22,
   "id": "67c386e5",
   "metadata": {
    "collapsed": false,
    "jupyter": {
     "outputs_hidden": false
    },
    "pycharm": {
     "name": "#%%\n"
    }
   },
   "outputs": [
    {
     "name": "stdout",
     "output_type": "stream",
     "text": [
      "Unique tags: 188\n"
     ]
    }
   ],
   "source": [
    "tags: List[str] = [x.split() for x in questions[questions.tags != \"nan\"].tags.values]\n",
    "tags: List[str] = [item for elem in tags for item in elem]\n",
    "tags: Set[str] = set(tags)\n",
    "print(f\"Unique tags: {len(tags)}\")"
   ]
  },
  {
   "cell_type": "markdown",
   "id": "2fdaddfd",
   "metadata": {
    "pycharm": {
     "name": "#%% md\n"
    }
   },
   "source": [
    "#### Корректность ответов по вопросам"
   ]
  },
  {
   "cell_type": "code",
   "execution_count": 23,
   "id": "72da962d",
   "metadata": {
    "collapsed": false,
    "jupyter": {
     "outputs_hidden": false
    },
    "pycharm": {
     "name": "#%%\n"
    }
   },
   "outputs": [
    {
     "data": {
      "text/html": [
       "<div>\n",
       "<style scoped>\n",
       "    .dataframe tbody tr th:only-of-type {\n",
       "        vertical-align: middle;\n",
       "    }\n",
       "\n",
       "    .dataframe tbody tr th {\n",
       "        vertical-align: top;\n",
       "    }\n",
       "\n",
       "    .dataframe thead th {\n",
       "        text-align: right;\n",
       "    }\n",
       "</style>\n",
       "<table border=\"1\" class=\"dataframe\">\n",
       "  <thead>\n",
       "    <tr style=\"text-align: right;\">\n",
       "      <th></th>\n",
       "      <th>question_id</th>\n",
       "      <th>bundle_id</th>\n",
       "      <th>correct_answer</th>\n",
       "      <th>part</th>\n",
       "      <th>tags</th>\n",
       "      <th>Wrong</th>\n",
       "      <th>Right</th>\n",
       "    </tr>\n",
       "  </thead>\n",
       "  <tbody>\n",
       "    <tr>\n",
       "      <th>0</th>\n",
       "      <td>0</td>\n",
       "      <td>0</td>\n",
       "      <td>0</td>\n",
       "      <td>1</td>\n",
       "      <td>[51, 131, 162, 38]</td>\n",
       "      <td>637</td>\n",
       "      <td>6266</td>\n",
       "    </tr>\n",
       "    <tr>\n",
       "      <th>1</th>\n",
       "      <td>1</td>\n",
       "      <td>1</td>\n",
       "      <td>1</td>\n",
       "      <td>1</td>\n",
       "      <td>[131, 36, 81]</td>\n",
       "      <td>809</td>\n",
       "      <td>6589</td>\n",
       "    </tr>\n",
       "    <tr>\n",
       "      <th>2</th>\n",
       "      <td>2</td>\n",
       "      <td>2</td>\n",
       "      <td>0</td>\n",
       "      <td>1</td>\n",
       "      <td>[131, 101, 162, 92]</td>\n",
       "      <td>20015</td>\n",
       "      <td>24890</td>\n",
       "    </tr>\n",
       "    <tr>\n",
       "      <th>3</th>\n",
       "      <td>3</td>\n",
       "      <td>3</td>\n",
       "      <td>0</td>\n",
       "      <td>1</td>\n",
       "      <td>[131, 149, 162, 29]</td>\n",
       "      <td>5067</td>\n",
       "      <td>17906</td>\n",
       "    </tr>\n",
       "    <tr>\n",
       "      <th>4</th>\n",
       "      <td>4</td>\n",
       "      <td>4</td>\n",
       "      <td>3</td>\n",
       "      <td>1</td>\n",
       "      <td>[131, 5, 162, 38]</td>\n",
       "      <td>12275</td>\n",
       "      <td>19461</td>\n",
       "    </tr>\n",
       "    <tr>\n",
       "      <th>...</th>\n",
       "      <td>...</td>\n",
       "      <td>...</td>\n",
       "      <td>...</td>\n",
       "      <td>...</td>\n",
       "      <td>...</td>\n",
       "      <td>...</td>\n",
       "      <td>...</td>\n",
       "    </tr>\n",
       "    <tr>\n",
       "      <th>13518</th>\n",
       "      <td>13518</td>\n",
       "      <td>13518</td>\n",
       "      <td>3</td>\n",
       "      <td>5</td>\n",
       "      <td>[14]</td>\n",
       "      <td>185</td>\n",
       "      <td>683</td>\n",
       "    </tr>\n",
       "    <tr>\n",
       "      <th>13519</th>\n",
       "      <td>13519</td>\n",
       "      <td>13519</td>\n",
       "      <td>3</td>\n",
       "      <td>5</td>\n",
       "      <td>[8]</td>\n",
       "      <td>396</td>\n",
       "      <td>528</td>\n",
       "    </tr>\n",
       "    <tr>\n",
       "      <th>13520</th>\n",
       "      <td>13520</td>\n",
       "      <td>13520</td>\n",
       "      <td>2</td>\n",
       "      <td>5</td>\n",
       "      <td>[73]</td>\n",
       "      <td>282</td>\n",
       "      <td>579</td>\n",
       "    </tr>\n",
       "    <tr>\n",
       "      <th>13521</th>\n",
       "      <td>13521</td>\n",
       "      <td>13521</td>\n",
       "      <td>0</td>\n",
       "      <td>5</td>\n",
       "      <td>[125]</td>\n",
       "      <td>167</td>\n",
       "      <td>703</td>\n",
       "    </tr>\n",
       "    <tr>\n",
       "      <th>13522</th>\n",
       "      <td>13522</td>\n",
       "      <td>13522</td>\n",
       "      <td>3</td>\n",
       "      <td>5</td>\n",
       "      <td>[55]</td>\n",
       "      <td>74</td>\n",
       "      <td>786</td>\n",
       "    </tr>\n",
       "  </tbody>\n",
       "</table>\n",
       "<p>13523 rows × 7 columns</p>\n",
       "</div>"
      ],
      "text/plain": [
       "       question_id  bundle_id  correct_answer  part                 tags  \\\n",
       "0                0          0               0     1   [51, 131, 162, 38]   \n",
       "1                1          1               1     1        [131, 36, 81]   \n",
       "2                2          2               0     1  [131, 101, 162, 92]   \n",
       "3                3          3               0     1  [131, 149, 162, 29]   \n",
       "4                4          4               3     1    [131, 5, 162, 38]   \n",
       "...            ...        ...             ...   ...                  ...   \n",
       "13518        13518      13518               3     5                 [14]   \n",
       "13519        13519      13519               3     5                  [8]   \n",
       "13520        13520      13520               2     5                 [73]   \n",
       "13521        13521      13521               0     5                [125]   \n",
       "13522        13522      13522               3     5                 [55]   \n",
       "\n",
       "       Wrong  Right  \n",
       "0        637   6266  \n",
       "1        809   6589  \n",
       "2      20015  24890  \n",
       "3       5067  17906  \n",
       "4      12275  19461  \n",
       "...      ...    ...  \n",
       "13518    185    683  \n",
       "13519    396    528  \n",
       "13520    282    579  \n",
       "13521    167    703  \n",
       "13522     74    786  \n",
       "\n",
       "[13523 rows x 7 columns]"
      ]
     },
     "execution_count": 23,
     "metadata": {},
     "output_type": "execute_result"
    }
   ],
   "source": [
    "tags_list: List[str] = [x.split() for x in questions.tags.values]\n",
    "questions['tags'] = tags_list\n",
    "\n",
    "correct = train[train.answered_correctly != -1].groupby([\"content_id\", 'answered_correctly'], as_index=False).size()\n",
    "correct = correct.pivot(index= \"content_id\", columns='answered_correctly', values='size')\n",
    "correct.columns = ['Wrong', 'Right']\n",
    "correct = correct.fillna(0)\n",
    "correct[['Wrong', 'Right']] = correct[['Wrong', 'Right']].astype(int)\n",
    "questions = questions.merge(correct, left_on = \"question_id\", right_on = \"content_id\", how = \"left\")\n",
    "questions"
   ]
  },
  {
   "cell_type": "markdown",
   "id": "bcaf0729",
   "metadata": {
    "pycharm": {
     "name": "#%% md\n"
    }
   },
   "source": [
    "#### Корректность ответов по тегам"
   ]
  },
  {
   "cell_type": "code",
   "execution_count": 37,
   "id": "1edcfd57",
   "metadata": {
    "collapsed": false,
    "jupyter": {
     "outputs_hidden": false
    },
    "pycharm": {
     "name": "#%%\n"
    }
   },
   "outputs": [
    {
     "data": {
      "text/html": [
       "<div>\n",
       "<style scoped>\n",
       "    .dataframe tbody tr th:only-of-type {\n",
       "        vertical-align: middle;\n",
       "    }\n",
       "\n",
       "    .dataframe tbody tr th {\n",
       "        vertical-align: top;\n",
       "    }\n",
       "\n",
       "    .dataframe thead th {\n",
       "        text-align: right;\n",
       "    }\n",
       "</style>\n",
       "<table border=\"1\" class=\"dataframe\">\n",
       "  <thead>\n",
       "    <tr style=\"text-align: right;\">\n",
       "      <th></th>\n",
       "      <th>Wrong</th>\n",
       "      <th>Right</th>\n",
       "      <th>Total_questions</th>\n",
       "      <th>Question_ids_with_tag</th>\n",
       "      <th>Percent_correct</th>\n",
       "    </tr>\n",
       "    <tr>\n",
       "      <th>tag</th>\n",
       "      <th></th>\n",
       "      <th></th>\n",
       "      <th></th>\n",
       "      <th></th>\n",
       "      <th></th>\n",
       "    </tr>\n",
       "  </thead>\n",
       "  <tbody>\n",
       "    <tr>\n",
       "      <th>68</th>\n",
       "      <td>16378</td>\n",
       "      <td>104000</td>\n",
       "      <td>120378</td>\n",
       "      <td>18</td>\n",
       "      <td>0.863945</td>\n",
       "    </tr>\n",
       "    <tr>\n",
       "      <th>187</th>\n",
       "      <td>36293</td>\n",
       "      <td>215776</td>\n",
       "      <td>252069</td>\n",
       "      <td>45</td>\n",
       "      <td>0.856020</td>\n",
       "    </tr>\n",
       "    <tr>\n",
       "      <th>130</th>\n",
       "      <td>35788</td>\n",
       "      <td>207920</td>\n",
       "      <td>243708</td>\n",
       "      <td>37</td>\n",
       "      <td>0.853152</td>\n",
       "    </tr>\n",
       "    <tr>\n",
       "      <th>149</th>\n",
       "      <td>60334</td>\n",
       "      <td>336639</td>\n",
       "      <td>396973</td>\n",
       "      <td>53</td>\n",
       "      <td>0.848015</td>\n",
       "    </tr>\n",
       "    <tr>\n",
       "      <th>40</th>\n",
       "      <td>42176</td>\n",
       "      <td>184338</td>\n",
       "      <td>226514</td>\n",
       "      <td>27</td>\n",
       "      <td>0.813804</td>\n",
       "    </tr>\n",
       "    <tr>\n",
       "      <th>...</th>\n",
       "      <td>...</td>\n",
       "      <td>...</td>\n",
       "      <td>...</td>\n",
       "      <td>...</td>\n",
       "      <td>...</td>\n",
       "    </tr>\n",
       "    <tr>\n",
       "      <th>167</th>\n",
       "      <td>170386</td>\n",
       "      <td>170681</td>\n",
       "      <td>341067</td>\n",
       "      <td>11</td>\n",
       "      <td>0.500432</td>\n",
       "    </tr>\n",
       "    <tr>\n",
       "      <th>151</th>\n",
       "      <td>272267</td>\n",
       "      <td>264913</td>\n",
       "      <td>537180</td>\n",
       "      <td>16</td>\n",
       "      <td>0.493155</td>\n",
       "    </tr>\n",
       "    <tr>\n",
       "      <th>19</th>\n",
       "      <td>173602</td>\n",
       "      <td>136367</td>\n",
       "      <td>309969</td>\n",
       "      <td>57</td>\n",
       "      <td>0.439938</td>\n",
       "    </tr>\n",
       "    <tr>\n",
       "      <th>23</th>\n",
       "      <td>261611</td>\n",
       "      <td>204293</td>\n",
       "      <td>465904</td>\n",
       "      <td>11</td>\n",
       "      <td>0.438487</td>\n",
       "    </tr>\n",
       "    <tr>\n",
       "      <th>24</th>\n",
       "      <td>157631</td>\n",
       "      <td>98982</td>\n",
       "      <td>256613</td>\n",
       "      <td>17</td>\n",
       "      <td>0.385725</td>\n",
       "    </tr>\n",
       "  </tbody>\n",
       "</table>\n",
       "<p>188 rows × 5 columns</p>\n",
       "</div>"
      ],
      "text/plain": [
       "      Wrong   Right  Total_questions  Question_ids_with_tag  Percent_correct\n",
       "tag                                                                         \n",
       "68    16378  104000           120378                     18         0.863945\n",
       "187   36293  215776           252069                     45         0.856020\n",
       "130   35788  207920           243708                     37         0.853152\n",
       "149   60334  336639           396973                     53         0.848015\n",
       "40    42176  184338           226514                     27         0.813804\n",
       "..      ...     ...              ...                    ...              ...\n",
       "167  170386  170681           341067                     11         0.500432\n",
       "151  272267  264913           537180                     16         0.493155\n",
       "19   173602  136367           309969                     57         0.439938\n",
       "23   261611  204293           465904                     11         0.438487\n",
       "24   157631   98982           256613                     17         0.385725\n",
       "\n",
       "[188 rows x 5 columns]"
      ]
     },
     "execution_count": 37,
     "metadata": {},
     "output_type": "execute_result"
    }
   ],
   "source": [
    "tags_df: pd.DataFrame = pd.DataFrame()\n",
    "tags: List[str] = list(tags)\n",
    "for tag in tags:\n",
    "    df: pd.DataFrame = questions[questions.tags.apply(lambda l: tag in l)]\n",
    "    df1: pd.DataFrame = df.agg({'Wrong': ['sum'], 'Right': ['sum']})\n",
    "    df1['Total_questions'] = df1.Wrong + df1.Right\n",
    "    df1['Question_ids_with_tag'] = len(df)\n",
    "    df1['tag'] = tag\n",
    "    df1 = df1.set_index('tag')\n",
    "    tags_df = tags_df.append(df1)\n",
    "\n",
    "tags_df[['Wrong', 'Right', 'Total_questions']] = tags_df[['Wrong', 'Right', 'Total_questions']].astype(int)\n",
    "tags_df['Percent_correct'] = tags_df.Right/tags_df.Total_questions\n",
    "tags_df = tags_df.sort_values(by = \"Percent_correct\", ascending=False)\n",
    "\n",
    "tags_df"
   ]
  },
  {
   "cell_type": "code",
   "execution_count": 25,
   "id": "91201419",
   "metadata": {
    "collapsed": false,
    "jupyter": {
     "outputs_hidden": false
    },
    "pycharm": {
     "name": "#%%\n"
    }
   },
   "outputs": [
    {
     "data": {
      "image/png": "[encoded data removed]",
      "text/plain": [
       "<Figure size 1200x600 with 1 Axes>"
      ]
     },
     "metadata": {},
     "output_type": "display_data"
    }
   ],
   "source": [
    "select_rows: List[int] = list(range(0,10)) + list(range(178, len(tags_df)))\n",
    "tags_select: pd.DataFrame = tags_df.iloc[select_rows,4]\n",
    "x: List[int] = tags_select.index\n",
    "y: List[float] = tags_select.values\n",
    "\n",
    "fig = plt.figure(figsize=(12,6))\n",
    "clrs = ['red' if y < 0.6 else 'green' for y in tags_select.values]\n",
    "tags_select.plot.bar(x, y, color=clrs)\n",
    "plt.title(\"Top-10 easyest/hardest tags\")\n",
    "plt.xlabel(\"Tag\")\n",
    "plt.ylabel(\"Correct answers percentage\")\n",
    "plt.xticks(rotation=90)\n",
    "plt.show()"
   ]
  },
  {
   "cell_type": "code",
   "execution_count": 26,
   "id": "01baad8d",
   "metadata": {
    "collapsed": false,
    "jupyter": {
     "outputs_hidden": false
    },
    "pycharm": {
     "name": "#%%\n"
    }
   },
   "outputs": [
    {
     "data": {
      "image/png": "[encoded data removed]",
      "text/plain": [
       "<Figure size 1200x600 with 1 Axes>"
      ]
     },
     "metadata": {},
     "output_type": "display_data"
    }
   ],
   "source": [
    "tags_select = tags_df.sort_values(by = \"Total_questions\", ascending = False).iloc[:10,:]\n",
    "tags_select = tags_select[\"Total_questions\"]\n",
    "\n",
    "fig = plt.figure(figsize=(12,6))\n",
    "ax = tags_select.plot.bar()\n",
    "plt.title(\"Most popular tages\")\n",
    "plt.xticks(rotation=90)\n",
    "plt.xlabel('Тэг')\n",
    "plt.ticklabel_format(style='plain', axis='y')\n",
    "ax.get_yaxis().set_major_formatter(FuncFormatter(lambda x, p: format(int(x), ','))) #add thousands separator\n",
    "plt.show()"
   ]
  },
  {
   "cell_type": "code",
   "execution_count": 27,
   "id": "d64aac8a",
   "metadata": {
    "collapsed": false,
    "jupyter": {
     "outputs_hidden": false
    },
    "pycharm": {
     "name": "#%%\n"
    }
   },
   "outputs": [
    {
     "data": {
      "text/html": [
       "<div>\n",
       "<style scoped>\n",
       "    .dataframe tbody tr th:only-of-type {\n",
       "        vertical-align: middle;\n",
       "    }\n",
       "\n",
       "    .dataframe tbody tr th {\n",
       "        vertical-align: top;\n",
       "    }\n",
       "\n",
       "    .dataframe thead th {\n",
       "        text-align: right;\n",
       "    }\n",
       "</style>\n",
       "<table border=\"1\" class=\"dataframe\">\n",
       "  <thead>\n",
       "    <tr style=\"text-align: right;\">\n",
       "      <th></th>\n",
       "      <th>row_id</th>\n",
       "      <th>timestamp</th>\n",
       "      <th>user_id</th>\n",
       "      <th>content_id</th>\n",
       "      <th>content_type_id</th>\n",
       "      <th>task_container_id</th>\n",
       "      <th>user_answer</th>\n",
       "      <th>answered_correctly</th>\n",
       "      <th>prior_question_elapsed_time</th>\n",
       "      <th>prior_question_had_explanation</th>\n",
       "      <th>ts_bin</th>\n",
       "      <th>part</th>\n",
       "    </tr>\n",
       "  </thead>\n",
       "  <tbody>\n",
       "    <tr>\n",
       "      <th>0</th>\n",
       "      <td>0</td>\n",
       "      <td>0</td>\n",
       "      <td>115</td>\n",
       "      <td>5692</td>\n",
       "      <td>False</td>\n",
       "      <td>1</td>\n",
       "      <td>3</td>\n",
       "      <td>1</td>\n",
       "      <td>NaN</td>\n",
       "      <td>&lt;NA&gt;</td>\n",
       "      <td>Group_1</td>\n",
       "      <td>5</td>\n",
       "    </tr>\n",
       "    <tr>\n",
       "      <th>1</th>\n",
       "      <td>2385</td>\n",
       "      <td>4216576228</td>\n",
       "      <td>24418</td>\n",
       "      <td>5692</td>\n",
       "      <td>False</td>\n",
       "      <td>497</td>\n",
       "      <td>3</td>\n",
       "      <td>1</td>\n",
       "      <td>21000.0</td>\n",
       "      <td>True</td>\n",
       "      <td>Group_6</td>\n",
       "      <td>5</td>\n",
       "    </tr>\n",
       "    <tr>\n",
       "      <th>2</th>\n",
       "      <td>8954</td>\n",
       "      <td>0</td>\n",
       "      <td>51285</td>\n",
       "      <td>5692</td>\n",
       "      <td>False</td>\n",
       "      <td>0</td>\n",
       "      <td>3</td>\n",
       "      <td>1</td>\n",
       "      <td>NaN</td>\n",
       "      <td>&lt;NA&gt;</td>\n",
       "      <td>Group_1</td>\n",
       "      <td>5</td>\n",
       "    </tr>\n",
       "    <tr>\n",
       "      <th>3</th>\n",
       "      <td>9280</td>\n",
       "      <td>330907575</td>\n",
       "      <td>91216</td>\n",
       "      <td>5692</td>\n",
       "      <td>False</td>\n",
       "      <td>153</td>\n",
       "      <td>3</td>\n",
       "      <td>1</td>\n",
       "      <td>22000.0</td>\n",
       "      <td>True</td>\n",
       "      <td>Group_3</td>\n",
       "      <td>5</td>\n",
       "    </tr>\n",
       "    <tr>\n",
       "      <th>4</th>\n",
       "      <td>13269</td>\n",
       "      <td>560202977</td>\n",
       "      <td>138650</td>\n",
       "      <td>5692</td>\n",
       "      <td>False</td>\n",
       "      <td>122</td>\n",
       "      <td>3</td>\n",
       "      <td>1</td>\n",
       "      <td>18000.0</td>\n",
       "      <td>True</td>\n",
       "      <td>Group_3</td>\n",
       "      <td>5</td>\n",
       "    </tr>\n",
       "    <tr>\n",
       "      <th>...</th>\n",
       "      <td>...</td>\n",
       "      <td>...</td>\n",
       "      <td>...</td>\n",
       "      <td>...</td>\n",
       "      <td>...</td>\n",
       "      <td>...</td>\n",
       "      <td>...</td>\n",
       "      <td>...</td>\n",
       "      <td>...</td>\n",
       "      <td>...</td>\n",
       "      <td>...</td>\n",
       "      <td>...</td>\n",
       "    </tr>\n",
       "    <tr>\n",
       "      <th>100038520</th>\n",
       "      <td>89256667</td>\n",
       "      <td>7327293505</td>\n",
       "      <td>1896513376</td>\n",
       "      <td>5823</td>\n",
       "      <td>False</td>\n",
       "      <td>4239</td>\n",
       "      <td>0</td>\n",
       "      <td>1</td>\n",
       "      <td>21000.0</td>\n",
       "      <td>True</td>\n",
       "      <td>Group_7</td>\n",
       "      <td>5</td>\n",
       "    </tr>\n",
       "    <tr>\n",
       "      <th>100038521</th>\n",
       "      <td>97579050</td>\n",
       "      <td>4339553896</td>\n",
       "      <td>2070144393</td>\n",
       "      <td>10008</td>\n",
       "      <td>False</td>\n",
       "      <td>1406</td>\n",
       "      <td>3</td>\n",
       "      <td>1</td>\n",
       "      <td>23750.0</td>\n",
       "      <td>False</td>\n",
       "      <td>Group_6</td>\n",
       "      <td>6</td>\n",
       "    </tr>\n",
       "    <tr>\n",
       "      <th>100038522</th>\n",
       "      <td>97579051</td>\n",
       "      <td>4339553896</td>\n",
       "      <td>2070144393</td>\n",
       "      <td>10007</td>\n",
       "      <td>False</td>\n",
       "      <td>1406</td>\n",
       "      <td>1</td>\n",
       "      <td>0</td>\n",
       "      <td>23750.0</td>\n",
       "      <td>False</td>\n",
       "      <td>Group_6</td>\n",
       "      <td>6</td>\n",
       "    </tr>\n",
       "    <tr>\n",
       "      <th>100038523</th>\n",
       "      <td>97579052</td>\n",
       "      <td>4339553896</td>\n",
       "      <td>2070144393</td>\n",
       "      <td>10006</td>\n",
       "      <td>False</td>\n",
       "      <td>1406</td>\n",
       "      <td>0</td>\n",
       "      <td>1</td>\n",
       "      <td>23750.0</td>\n",
       "      <td>False</td>\n",
       "      <td>Group_6</td>\n",
       "      <td>6</td>\n",
       "    </tr>\n",
       "    <tr>\n",
       "      <th>100038524</th>\n",
       "      <td>97579053</td>\n",
       "      <td>4339553896</td>\n",
       "      <td>2070144393</td>\n",
       "      <td>10005</td>\n",
       "      <td>False</td>\n",
       "      <td>1406</td>\n",
       "      <td>1</td>\n",
       "      <td>1</td>\n",
       "      <td>23750.0</td>\n",
       "      <td>False</td>\n",
       "      <td>Group_6</td>\n",
       "      <td>6</td>\n",
       "    </tr>\n",
       "  </tbody>\n",
       "</table>\n",
       "<p>100038525 rows × 12 columns</p>\n",
       "</div>"
      ],
      "text/plain": [
       "             row_id   timestamp     user_id  content_id  content_type_id  \\\n",
       "0                 0           0         115        5692            False   \n",
       "1              2385  4216576228       24418        5692            False   \n",
       "2              8954           0       51285        5692            False   \n",
       "3              9280   330907575       91216        5692            False   \n",
       "4             13269   560202977      138650        5692            False   \n",
       "...             ...         ...         ...         ...              ...   \n",
       "100038520  89256667  7327293505  1896513376        5823            False   \n",
       "100038521  97579050  4339553896  2070144393       10008            False   \n",
       "100038522  97579051  4339553896  2070144393       10007            False   \n",
       "100038523  97579052  4339553896  2070144393       10006            False   \n",
       "100038524  97579053  4339553896  2070144393       10005            False   \n",
       "\n",
       "           task_container_id  user_answer  answered_correctly  \\\n",
       "0                          1            3                   1   \n",
       "1                        497            3                   1   \n",
       "2                          0            3                   1   \n",
       "3                        153            3                   1   \n",
       "4                        122            3                   1   \n",
       "...                      ...          ...                 ...   \n",
       "100038520               4239            0                   1   \n",
       "100038521               1406            3                   1   \n",
       "100038522               1406            1                   0   \n",
       "100038523               1406            0                   1   \n",
       "100038524               1406            1                   1   \n",
       "\n",
       "           prior_question_elapsed_time  prior_question_had_explanation  \\\n",
       "0                                  NaN                            <NA>   \n",
       "1                              21000.0                            True   \n",
       "2                                  NaN                            <NA>   \n",
       "3                              22000.0                            True   \n",
       "4                              18000.0                            True   \n",
       "...                                ...                             ...   \n",
       "100038520                      21000.0                            True   \n",
       "100038521                      23750.0                           False   \n",
       "100038522                      23750.0                           False   \n",
       "100038523                      23750.0                           False   \n",
       "100038524                      23750.0                           False   \n",
       "\n",
       "            ts_bin  part  \n",
       "0          Group_1     5  \n",
       "1          Group_6     5  \n",
       "2          Group_1     5  \n",
       "3          Group_3     5  \n",
       "4          Group_3     5  \n",
       "...            ...   ...  \n",
       "100038520  Group_7     5  \n",
       "100038521  Group_6     6  \n",
       "100038522  Group_6     6  \n",
       "100038523  Group_6     6  \n",
       "100038524  Group_6     6  \n",
       "\n",
       "[100038525 rows x 12 columns]"
      ]
     },
     "execution_count": 27,
     "metadata": {},
     "output_type": "execute_result"
    }
   ],
   "source": [
    "train = train.merge(questions[['question_id','part']], left_on='content_id', right_on='question_id').drop(columns=['question_id'])\n",
    "train"
   ]
  },
  {
   "cell_type": "markdown",
   "id": "c1536b9b",
   "metadata": {
    "pycharm": {
     "name": "#%% md\n"
    }
   },
   "source": [
    "##### Распределение корректных ответов по частям теста"
   ]
  },
  {
   "cell_type": "code",
   "execution_count": 28,
   "id": "990ab55a",
   "metadata": {
    "collapsed": false,
    "jupyter": {
     "outputs_hidden": false
    },
    "pycharm": {
     "name": "#%%\n"
    }
   },
   "outputs": [
    {
     "data": {
      "text/plain": [
       "part\n",
       "1    0.722198\n",
       "2    0.701912\n",
       "3    0.686321\n",
       "6    0.654881\n",
       "7    0.651956\n",
       "4    0.609149\n",
       "5    0.598691\n",
       "Name: answered_correctly, dtype: float64"
      ]
     },
     "execution_count": 28,
     "metadata": {},
     "output_type": "execute_result"
    }
   ],
   "source": [
    "train.groupby('part')['answered_correctly'].mean().sort_values(ascending=False)"
   ]
  },
  {
   "cell_type": "markdown",
   "id": "1ad5245d",
   "metadata": {
    "pycharm": {
     "name": "#%% md\n"
    }
   },
   "source": [
    "### Анализ лекций"
   ]
  },
  {
   "cell_type": "code",
   "execution_count": 29,
   "id": "a34805ea",
   "metadata": {
    "collapsed": false,
    "jupyter": {
     "outputs_hidden": false
    },
    "pycharm": {
     "name": "#%%\n"
    }
   },
   "outputs": [
    {
     "name": "stdout",
     "output_type": "stream",
     "text": [
      "Unique lectures 418\n"
     ]
    }
   ],
   "source": [
    "print(f\"Unique lectures {lectures.shape[0]}\")"
   ]
  },
  {
   "cell_type": "code",
   "execution_count": 30,
   "id": "40e066a2",
   "metadata": {
    "collapsed": false,
    "jupyter": {
     "outputs_hidden": false
    },
    "pycharm": {
     "name": "#%%\n"
    }
   },
   "outputs": [
    {
     "data": {
      "image/png": "[encoded data removed]",
      "text/plain": [
       "<Figure size 1200x600 with 1 Axes>"
      ]
     },
     "metadata": {},
     "output_type": "display_data"
    }
   ],
   "source": [
    "lect_type_of: pd.DataFrame = lectures.type_of.value_counts()\n",
    "\n",
    "fig = plt.figure(figsize=(12,6))\n",
    "plt.bar(lect_type_of.index, lect_type_of.values)\n",
    "for i, v in zip(lect_type_of.index, lect_type_of.values):\n",
    "    plt.text(i, v, v, color='black', fontweight='bold', fontsize=14, va='bottom', ha='center')\n",
    "plt.title(\"Dimension of lecture types\")\n",
    "plt.xlabel(\"Lecture type\")\n",
    "plt.ylabel(\"Amount\")\n",
    "plt.xticks(rotation=0)\n",
    "plt.show()"
   ]
  },
  {
   "cell_type": "markdown",
   "id": "fe11b22f",
   "metadata": {
    "pycharm": {
     "name": "#%% md\n"
    }
   },
   "source": [
    "#### Зависимость количества корректных ответов от типа лекции"
   ]
  },
  {
   "cell_type": "code",
   "execution_count": 31,
   "id": "0765ea08",
   "metadata": {
    "collapsed": false,
    "jupyter": {
     "outputs_hidden": false
    },
    "pycharm": {
     "name": "#%%\n"
    }
   },
   "outputs": [
    {
     "name": "stdout",
     "output_type": "stream",
     "text": [
      "False    276095\n",
      "True     117561\n",
      "Name: Watches_lecture, dtype: int64\n"
     ]
    },
    {
     "data": {
      "image/png": "[encoded data removed]",
      "text/plain": [
       "<Figure size 1200x400 with 1 Axes>"
      ]
     },
     "metadata": {},
     "output_type": "display_data"
    }
   ],
   "source": [
    "user_lect: pd.DataFrame = train.groupby([\"user_id\", \"answered_correctly\"]).size().unstack()\n",
    "user_lect.columns = ['Lecture', 'Wrong', 'Right']\n",
    "user_lect['Lecture'] = user_lect['Lecture'].fillna(0)\n",
    "user_lect = user_lect.astype('Int64')\n",
    "user_lect['Watches_lecture'] = np.where(user_lect.Lecture > 0, True, False)\n",
    "\n",
    "watches_l: pd.DataFrame = user_lect.groupby(\"Watches_lecture\").agg({'Wrong': ['sum'], 'Right': ['sum']})\n",
    "print(user_lect.Watches_lecture.value_counts())\n",
    "\n",
    "watches_l['Percent_correct'] = watches_l.Right/(watches_l.Right + watches_l.Wrong)\n",
    "\n",
    "watches_l = watches_l.iloc[:,2]\n",
    "\n",
    "fig = plt.figure(figsize=(12,4))\n",
    "watches_l.plot.barh()\n",
    "for i, v in zip(watches_l.index, watches_l.values):\n",
    "    plt.text(v, i, round(v,2), color='white', fontweight='bold', fontsize=14, ha='right', va='center')\n",
    "\n",
    "plt.title(\"Correct answers percentage by lectures viewed\")\n",
    "plt.xlabel(\"Percentage\")\n",
    "plt.ylabel(\"Lecture viewed\")\n",
    "plt.xticks(rotation=0)\n",
    "plt.show()"
   ]
  },
  {
   "cell_type": "code",
   "execution_count": 32,
   "id": "112706ff",
   "metadata": {
    "collapsed": false,
    "jupyter": {
     "outputs_hidden": false
    },
    "pycharm": {
     "name": "#%%\n"
    }
   },
   "outputs": [
    {
     "name": "stdout",
     "output_type": "stream",
     "text": [
      "Most viewed: 35.\n"
     ]
    }
   ],
   "source": [
    "batch_lect: pd.DataFrame = train.groupby([\"task_container_id\", \"answered_correctly\"]).size().unstack()\n",
    "batch_lect.columns = ['Lecture', 'Wrong', 'Right']\n",
    "batch_lect['Lecture'] = batch_lect['Lecture'].fillna(0)\n",
    "batch_lect = batch_lect.astype('Int64')\n",
    "batch_lect['Percent_correct'] = batch_lect.Right/(batch_lect.Wrong + batch_lect.Right)\n",
    "batch_lect['Percent_lecture'] = batch_lect.Lecture/(batch_lect.Lecture + batch_lect.Wrong + batch_lect.Right)\n",
    "batch_lect = batch_lect.sort_values(by = \"Percent_lecture\", ascending = False)\n",
    "\n",
    "print(f\"Most viewed: {batch_lect.Lecture[0]}.\")"
   ]
  },
  {
   "cell_type": "code",
   "execution_count": 33,
   "id": "fb202fc4",
   "metadata": {
    "collapsed": false,
    "jupyter": {
     "outputs_hidden": false
    },
    "pycharm": {
     "name": "#%%\n"
    }
   },
   "outputs": [
    {
     "name": "stdout",
     "output_type": "stream",
     "text": [
      "Most popular lecture: 4.0.\n"
     ]
    }
   ],
   "source": [
    "print(f\"Most popular lecture: {batch_lect.iloc[0][0]}.\")"
   ]
  }
 ],
 "metadata": {
  "kernelspec": {
   "display_name": "Python 3 (ipykernel)",
   "language": "python",
   "name": "python3"
  },
  "language_info": {
   "codemirror_mode": {
    "name": "ipython",
    "version": 3
   },
   "file_extension": ".py",
   "mimetype": "text/x-python",
   "name": "python",
   "nbconvert_exporter": "python",
   "pygments_lexer": "ipython3",
   "version": "3.9.6"
  },
  "vscode": {
   "interpreter": {
    "hash": "81794d4967e6c3204c66dcd87b604927b115b27c00565d3d43f05ba2f3a2cb0d"
   }
  }
 },
 "nbformat": 4,
 "nbformat_minor": 5
}
